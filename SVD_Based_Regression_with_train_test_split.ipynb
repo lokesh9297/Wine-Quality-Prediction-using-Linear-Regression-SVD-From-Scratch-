{
  "nbformat": 4,
  "nbformat_minor": 0,
  "metadata": {
    "colab": {
      "provenance": [],
      "authorship_tag": "ABX9TyPCVbyiM7Iugbb+ozQqaICd",
      "include_colab_link": true
    },
    "kernelspec": {
      "name": "python3",
      "display_name": "Python 3"
    },
    "language_info": {
      "name": "python"
    }
  },
  "cells": [
    {
      "cell_type": "markdown",
      "metadata": {
        "id": "view-in-github",
        "colab_type": "text"
      },
      "source": [
        "<a href=\"https://colab.research.google.com/github/lokesh9297/Wine-Quality-Prediction-using-Linear-Regression-SVD-From-Scratch-/blob/main/SVD_Based_Regression_with_train_test_split.ipynb\" target=\"_parent\"><img src=\"https://colab.research.google.com/assets/colab-badge.svg\" alt=\"Open In Colab\"/></a>"
      ]
    },
    {
      "cell_type": "code",
      "execution_count": 1,
      "metadata": {
        "id": "wptAaaDJ_iaA"
      },
      "outputs": [],
      "source": [
        "import pandas as pd\n",
        "import numpy as np\n",
        "from numpy.linalg import norm, inv, svd\n",
        "\n",
        "# Load the dataset\n",
        "url = \"https://archive.ics.uci.edu/ml/machine-learning-databases/wine-quality/winequality-red.csv\"\n",
        "df = pd.read_csv(url, delimiter=\";\")\n",
        "\n",
        "# Separate features and target\n",
        "X = df.drop(columns=[\"quality\"])\n",
        "y = df[\"quality\"].values.reshape(-1, 1)"
      ]
    },
    {
      "cell_type": "code",
      "source": [
        "#Normalize\n",
        "X_norm = (X - X.mean())/X.std()\n",
        "x=X_norm.to_numpy()\n",
        "x.shape"
      ],
      "metadata": {
        "id": "LStO25ok2TIs",
        "colab": {
          "base_uri": "https://localhost:8080/"
        },
        "outputId": "44b54efa-bde9-46e3-aabf-8d6179bca1b0"
      },
      "execution_count": 2,
      "outputs": [
        {
          "output_type": "execute_result",
          "data": {
            "text/plain": [
              "(1599, 11)"
            ]
          },
          "metadata": {},
          "execution_count": 2
        }
      ]
    },
    {
      "cell_type": "code",
      "source": [
        "# Train-test split (80% train, 20% test)\n",
        "from sklearn.model_selection import train_test_split\n",
        "X_train, X_test, y_train, y_test = train_test_split(x, y, test_size=0.2, random_state=42)"
      ],
      "metadata": {
        "id": "o8HMaqKXMakQ"
      },
      "execution_count": 3,
      "outputs": []
    },
    {
      "cell_type": "code",
      "source": [
        "A_train = np.hstack((X_train, np.ones((X_train.shape[0], 1))))  # (1279, 12)\n",
        "A_test = np.hstack((X_test, np.ones((X_test.shape[0], 1))))  # (320, 12)\n",
        "\n",
        "# Target vector\n",
        "B_train = y_train\n",
        "B_test = y_test"
      ],
      "metadata": {
        "id": "5s0KjYrfP-d4"
      },
      "execution_count": 4,
      "outputs": []
    },
    {
      "cell_type": "code",
      "source": [
        "# Compute SVD for A_train\n",
        "U, S, VT = svd(A_train)\n",
        "\n",
        "# Compute the pseudo-inverse using SVD\n",
        "S_inv = np.zeros((12, 1279))\n",
        "for i in range(len(S)):\n",
        "  S_inv[i, i] = 1 / S[i]\n",
        "\n",
        "V = VT.T\n",
        "Ap_train = np.dot(np.dot(V, S_inv), U.T)\n",
        "\n",
        "X = np.dot(Ap_train, B_train)"
      ],
      "metadata": {
        "id": "Ggq5jphHQIu9"
      },
      "execution_count": 5,
      "outputs": []
    },
    {
      "cell_type": "code",
      "source": [
        "y_test_pred = A_test @ X\n",
        "y_train_pred = A_train @ X"
      ],
      "metadata": {
        "id": "QUaPoztQ8las"
      },
      "execution_count": 6,
      "outputs": []
    },
    {
      "cell_type": "code",
      "source": [
        "mse1 = np.mean((y_train- y_train_pred)**2)\n",
        "mse2 = np.mean((y_test- y_test_pred)**2)\n",
        "print(f\"Final MSE on training data: {mse1:.4f}\")\n",
        "print(f\"Final MSE on test data: {mse2:.4f}\")\n"
      ],
      "metadata": {
        "colab": {
          "base_uri": "https://localhost:8080/"
        },
        "id": "hmxWye0ZCz5h",
        "outputId": "018b1c79-dd59-453d-bdc0-1c08f7c8f454"
      },
      "execution_count": 7,
      "outputs": [
        {
          "output_type": "stream",
          "name": "stdout",
          "text": [
            "Final MSE on training data: 0.4242\n",
            "Final MSE on test data: 0.3900\n"
          ]
        }
      ]
    },
    {
      "cell_type": "code",
      "source": [
        "def r2_score(y, y_pred):\n",
        "    ss_res = np.sum((y - y_pred) ** 2)\n",
        "    ss_tot = np.sum((y - np.mean(y)) ** 2)\n",
        "    return 1 - (ss_res / ss_tot)\n",
        "\n",
        "r21 = r2_score(y_train, y_train_pred)\n",
        "r22 = r2_score(y_test, y_test_pred)\n",
        "\n",
        "print(f\"R² Score on training data: {r21:.4f}\")\n",
        "print(f\"R² Score on test data: {r22:.4f}\")"
      ],
      "metadata": {
        "colab": {
          "base_uri": "https://localhost:8080/"
        },
        "id": "-wiVz3ELKYuW",
        "outputId": "3e205abe-4729-4a27-b85d-0435209d1d58"
      },
      "execution_count": 8,
      "outputs": [
        {
          "output_type": "stream",
          "name": "stdout",
          "text": [
            "R² Score on training data: 0.3480\n",
            "R² Score on test data: 0.4032\n"
          ]
        }
      ]
    },
    {
      "cell_type": "code",
      "source": [],
      "metadata": {
        "id": "X7roQ0qWRBQh"
      },
      "execution_count": null,
      "outputs": []
    }
  ]
}