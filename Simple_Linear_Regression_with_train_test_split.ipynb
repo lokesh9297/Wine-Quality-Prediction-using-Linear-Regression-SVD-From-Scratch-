{
  "nbformat": 4,
  "nbformat_minor": 0,
  "metadata": {
    "colab": {
      "provenance": [],
      "authorship_tag": "ABX9TyNitkXAJdP6SOvjh+qR2+V7",
      "include_colab_link": true
    },
    "kernelspec": {
      "name": "python3",
      "display_name": "Python 3"
    },
    "language_info": {
      "name": "python"
    }
  },
  "cells": [
    {
      "cell_type": "markdown",
      "metadata": {
        "id": "view-in-github",
        "colab_type": "text"
      },
      "source": [
        "<a href=\"https://colab.research.google.com/github/lokesh9297/Irish-Flower-Classification/blob/main/Simple_Linear_Regression_with_train_test_split.ipynb\" target=\"_parent\"><img src=\"https://colab.research.google.com/assets/colab-badge.svg\" alt=\"Open In Colab\"/></a>"
      ]
    },
    {
      "cell_type": "code",
      "execution_count": 1,
      "metadata": {
        "id": "wptAaaDJ_iaA"
      },
      "outputs": [],
      "source": [
        "import pandas as pd\n",
        "import numpy as np\n",
        "\n",
        "# Load the dataset\n",
        "url = \"https://archive.ics.uci.edu/ml/machine-learning-databases/wine-quality/winequality-red.csv\"\n",
        "df = pd.read_csv(url, delimiter=\";\")\n",
        "\n",
        "# Separate features and target\n",
        "X = df.drop(columns=[\"quality\"])\n",
        "y = df[\"quality\"].values.reshape(-1, 1)"
      ]
    },
    {
      "cell_type": "code",
      "source": [
        "#Normalize\n",
        "X_norm = (X - X.mean())/X.std()\n",
        "x=X_norm.to_numpy()\n",
        "x.shape"
      ],
      "metadata": {
        "id": "LStO25ok2TIs",
        "colab": {
          "base_uri": "https://localhost:8080/"
        },
        "outputId": "e19380ff-30d2-477d-a50f-9b98a4c7b44f"
      },
      "execution_count": 2,
      "outputs": [
        {
          "output_type": "execute_result",
          "data": {
            "text/plain": [
              "(1599, 11)"
            ]
          },
          "metadata": {},
          "execution_count": 2
        }
      ]
    },
    {
      "cell_type": "code",
      "source": [
        "# Train-test split (80% train, 20% test)\n",
        "from sklearn.model_selection import train_test_split\n",
        "X_train, X_test, y_train, y_test = train_test_split(x, y, test_size=0.2, random_state=42)"
      ],
      "metadata": {
        "id": "o8HMaqKXMakQ"
      },
      "execution_count": 3,
      "outputs": []
    },
    {
      "cell_type": "code",
      "source": [
        "#Initiallize parameters\n",
        "w = np.ones((11,1))\n",
        "b= 0\n",
        "w.shape"
      ],
      "metadata": {
        "id": "D_rdW5Gw2zxW",
        "colab": {
          "base_uri": "https://localhost:8080/"
        },
        "outputId": "b4cb70d0-184f-45bd-930e-c11715ff2b63"
      },
      "execution_count": 4,
      "outputs": [
        {
          "output_type": "execute_result",
          "data": {
            "text/plain": [
              "(11, 1)"
            ]
          },
          "metadata": {},
          "execution_count": 4
        }
      ]
    },
    {
      "cell_type": "code",
      "source": [
        "def pred(x,w,b):\n",
        "  y_pred =np.zeros([len(x),1])\n",
        "  for i in range(len(x)):\n",
        "    y_pred[i]= np.dot(x[i,:],w)+b\n",
        "  return y_pred"
      ],
      "metadata": {
        "id": "CC3-43YN3fZ5"
      },
      "execution_count": 5,
      "outputs": []
    },
    {
      "cell_type": "code",
      "source": [
        "def cost_function(y_pred,y):\n",
        "  m= len(y)\n",
        "  return (1/(2*m))*np.sum((y_pred-y)**2)\n"
      ],
      "metadata": {
        "id": "53xRiUzE4D6r"
      },
      "execution_count": 6,
      "outputs": []
    },
    {
      "cell_type": "code",
      "source": [
        "def compute_gradient(x,y,w,b):\n",
        "  m= len(y)\n",
        "  y_pred = pred(x,w,b)\n",
        "  dw = (1/m)*np.dot(x.T,(y_pred-y))\n",
        "  db = (1/m)*np.sum(y_pred-y)\n",
        "  return dw,db"
      ],
      "metadata": {
        "id": "uSW7NfwC4w5f"
      },
      "execution_count": 7,
      "outputs": []
    },
    {
      "cell_type": "code",
      "source": [
        "def gradient_descent(x,y,w,b,learning_rate,epochs):\n",
        "    for i in range(epochs):\n",
        "        y_pred = pred(x,w,b)\n",
        "        dw, db = compute_gradient(x,y,w,b)\n",
        "        w -= learning_rate * dw\n",
        "        b -= learning_rate * db\n",
        "        if i % 100 == 0:  # Print cost every 100 iterations\n",
        "          print(f\"Epoch {i}, Cost: {cost_function(y_pred, y):.4f}\")\n",
        "    return w, b\n"
      ],
      "metadata": {
        "id": "cjc5NLw36OXq"
      },
      "execution_count": 8,
      "outputs": []
    },
    {
      "cell_type": "code",
      "source": [
        "learning_rate = 0.01\n",
        "epochs = 1001\n",
        "w, b = gradient_descent(X_train, y_train, w, b, learning_rate, epochs)\n"
      ],
      "metadata": {
        "colab": {
          "base_uri": "https://localhost:8080/"
        },
        "id": "0vIY6rg37Elu",
        "outputId": "4b6c4c64-fff7-48db-f794-7965a051fdd8"
      },
      "execution_count": 9,
      "outputs": [
        {
          "output_type": "stream",
          "name": "stdout",
          "text": [
            "Epoch 0, Cost: 22.4487\n",
            "Epoch 100, Cost: 3.0095\n",
            "Epoch 200, Cost: 0.7019\n",
            "Epoch 300, Cost: 0.3270\n",
            "Epoch 400, Cost: 0.2493\n",
            "Epoch 500, Cost: 0.2276\n",
            "Epoch 600, Cost: 0.2199\n",
            "Epoch 700, Cost: 0.2167\n",
            "Epoch 800, Cost: 0.2152\n",
            "Epoch 900, Cost: 0.2144\n",
            "Epoch 1000, Cost: 0.2140\n"
          ]
        }
      ]
    },
    {
      "cell_type": "code",
      "source": [
        "y_test_pred = pred(X_test, w, b)\n",
        "y_train_pred = pred(X_train, w, b)"
      ],
      "metadata": {
        "id": "QUaPoztQ8las"
      },
      "execution_count": 10,
      "outputs": []
    },
    {
      "cell_type": "code",
      "source": [
        "mse1 = np.mean((y_train- y_train_pred)**2)\n",
        "mse2 = np.mean((y_test- y_test_pred)**2)\n",
        "print(f\"Final MSE on training data: {mse1:.4f}\")\n",
        "print(f\"Final MSE on test data: {mse2:.4f}\")\n"
      ],
      "metadata": {
        "colab": {
          "base_uri": "https://localhost:8080/"
        },
        "id": "hmxWye0ZCz5h",
        "outputId": "37baddd0-0a1b-49e3-e55c-9c6bc9c7d310"
      },
      "execution_count": 11,
      "outputs": [
        {
          "output_type": "stream",
          "name": "stdout",
          "text": [
            "Final MSE on training data: 0.4279\n",
            "Final MSE on test data: 0.3931\n"
          ]
        }
      ]
    },
    {
      "cell_type": "code",
      "source": [
        "def r2_score(y, y_pred):\n",
        "    ss_res = np.sum((y - y_pred) ** 2)\n",
        "    ss_tot = np.sum((y - np.mean(y)) ** 2)\n",
        "    return 1 - (ss_res / ss_tot)\n",
        "\n",
        "r21 = r2_score(y_train, y_train_pred)\n",
        "r22 = r2_score(y_test, y_test_pred)\n",
        "\n",
        "print(f\"R² Score on training data: {r21:.4f}\")\n",
        "print(f\"R² Score on test data: {r22:.4f}\")"
      ],
      "metadata": {
        "colab": {
          "base_uri": "https://localhost:8080/"
        },
        "id": "-wiVz3ELKYuW",
        "outputId": "ae8af627-4831-4312-df4d-0c06706ffa1e"
      },
      "execution_count": 12,
      "outputs": [
        {
          "output_type": "stream",
          "name": "stdout",
          "text": [
            "R² Score on training data: 0.3422\n",
            "R² Score on test data: 0.3984\n"
          ]
        }
      ]
    },
    {
      "cell_type": "code",
      "source": [],
      "metadata": {
        "id": "I7FK4eLWOpTR"
      },
      "execution_count": null,
      "outputs": []
    }
  ]
}