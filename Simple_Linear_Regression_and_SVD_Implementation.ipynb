{
  "nbformat": 4,
  "nbformat_minor": 0,
  "metadata": {
    "colab": {
      "provenance": [],
      "authorship_tag": "ABX9TyOy3UCJorDMWoCTVN4lo0O2",
      "include_colab_link": true
    },
    "kernelspec": {
      "name": "python3",
      "display_name": "Python 3"
    },
    "language_info": {
      "name": "python"
    }
  },
  "cells": [
    {
      "cell_type": "markdown",
      "metadata": {
        "id": "view-in-github",
        "colab_type": "text"
      },
      "source": [
        "<a href=\"https://colab.research.google.com/github/lokesh9297/Wine-Quality-Prediction-using-Linear-Regression-SVD-From-Scratch-/blob/main/Simple_Linear_Regression_and_SVD_Implementation.ipynb\" target=\"_parent\"><img src=\"https://colab.research.google.com/assets/colab-badge.svg\" alt=\"Open In Colab\"/></a>"
      ]
    },
    {
      "cell_type": "code",
      "execution_count": 1,
      "metadata": {
        "id": "wptAaaDJ_iaA"
      },
      "outputs": [],
      "source": [
        "import pandas as pd\n",
        "import numpy as np\n",
        "\n",
        "# Load the dataset\n",
        "url = \"https://archive.ics.uci.edu/ml/machine-learning-databases/wine-quality/winequality-red.csv\"\n",
        "df = pd.read_csv(url, delimiter=\";\")\n",
        "\n",
        "# Separate features and target\n",
        "X = df.drop(columns=[\"quality\"])\n",
        "y = df[\"quality\"].values.reshape(-1, 1)"
      ]
    },
    {
      "cell_type": "code",
      "source": [
        "#Normalize\n",
        "X_norm = (X - X.mean())/X.std()\n",
        "x=X_norm.to_numpy()\n",
        "x.shape"
      ],
      "metadata": {
        "id": "LStO25ok2TIs",
        "colab": {
          "base_uri": "https://localhost:8080/"
        },
        "outputId": "cb6aa758-ff9b-49fa-b57b-9f7d217df0e5"
      },
      "execution_count": 2,
      "outputs": [
        {
          "output_type": "execute_result",
          "data": {
            "text/plain": [
              "(1599, 11)"
            ]
          },
          "metadata": {},
          "execution_count": 2
        }
      ]
    },
    {
      "cell_type": "code",
      "source": [
        "#Initiallize parameters\n",
        "w = np.ones((11,1))\n",
        "b= 0\n",
        "w.shape"
      ],
      "metadata": {
        "id": "D_rdW5Gw2zxW",
        "colab": {
          "base_uri": "https://localhost:8080/"
        },
        "outputId": "9f7f9a67-aee7-4002-8f63-f79559ce8e22"
      },
      "execution_count": 3,
      "outputs": [
        {
          "output_type": "execute_result",
          "data": {
            "text/plain": [
              "(11, 1)"
            ]
          },
          "metadata": {},
          "execution_count": 3
        }
      ]
    },
    {
      "cell_type": "code",
      "source": [
        "def pred(x,w,b):\n",
        "  y_pred =np.zeros([len(x),1])\n",
        "  for i in range(len(x)):\n",
        "    y_pred[i]= np.dot(x[i,:],w)+b\n",
        "  return y_pred"
      ],
      "metadata": {
        "id": "CC3-43YN3fZ5"
      },
      "execution_count": 4,
      "outputs": []
    },
    {
      "cell_type": "code",
      "source": [
        "def cost_function(y_pred,y):\n",
        "  m= len(y)\n",
        "  return (1/(2*m))*np.sum((y_pred-y)**2)\n"
      ],
      "metadata": {
        "id": "53xRiUzE4D6r"
      },
      "execution_count": 5,
      "outputs": []
    },
    {
      "cell_type": "code",
      "source": [
        "def compute_gradient(x,y,w,b):\n",
        "  m= len(y)\n",
        "  y_pred = pred(x,w,b)\n",
        "  dw = (1/m)*np.dot(x.T,(y_pred-y))\n",
        "  db = (1/m)*np.sum(y_pred-y)\n",
        "  return dw,db"
      ],
      "metadata": {
        "id": "uSW7NfwC4w5f"
      },
      "execution_count": 6,
      "outputs": []
    },
    {
      "cell_type": "code",
      "source": [
        "def gradient_descent(x,y,w,b,learning_rate,epochs):\n",
        "    for i in range(epochs):\n",
        "        y_pred = pred(x,w,b)\n",
        "        dw, db = compute_gradient(x,y,w,b)\n",
        "        w -= learning_rate * dw\n",
        "        b -= learning_rate * db\n",
        "        if i % 100 == 0:  # Print cost every 100 iterations\n",
        "          print(f\"Epoch {i}, Cost: {cost_function(y_pred, y):.4f}\")\n",
        "    return w, b\n"
      ],
      "metadata": {
        "id": "cjc5NLw36OXq"
      },
      "execution_count": 7,
      "outputs": []
    },
    {
      "cell_type": "code",
      "source": [
        "learning_rate = 0.01\n",
        "epochs = 1001\n",
        "w, b = gradient_descent(x, y, w, b, learning_rate, epochs)\n"
      ],
      "metadata": {
        "colab": {
          "base_uri": "https://localhost:8080/"
        },
        "id": "0vIY6rg37Elu",
        "outputId": "5056300f-2839-4e28-f418-f314aec8bcb0"
      },
      "execution_count": 8,
      "outputs": [
        {
          "output_type": "stream",
          "name": "stdout",
          "text": [
            "Epoch 0, Cost: 22.8770\n",
            "Epoch 100, Cost: 2.9735\n",
            "Epoch 200, Cost: 0.6769\n",
            "Epoch 300, Cost: 0.3151\n",
            "Epoch 400, Cost: 0.2424\n",
            "Epoch 500, Cost: 0.2226\n",
            "Epoch 600, Cost: 0.2156\n",
            "Epoch 700, Cost: 0.2127\n",
            "Epoch 800, Cost: 0.2113\n",
            "Epoch 900, Cost: 0.2106\n",
            "Epoch 1000, Cost: 0.2102\n"
          ]
        }
      ]
    },
    {
      "cell_type": "code",
      "source": [
        "y_pred = pred(x, w, b)\n",
        "print(\"Predicted Quality (First 5 samples):\", y_pred[:5].flatten())\n"
      ],
      "metadata": {
        "id": "QUaPoztQ8las",
        "colab": {
          "base_uri": "https://localhost:8080/"
        },
        "outputId": "076bc1c2-1ad9-4212-a6c3-ecb14067e1a9"
      },
      "execution_count": 9,
      "outputs": [
        {
          "output_type": "stream",
          "name": "stdout",
          "text": [
            "Predicted Quality (First 5 samples): [5.04454286 5.08562657 5.16483032 5.77411226 5.04454286]\n"
          ]
        }
      ]
    },
    {
      "cell_type": "code",
      "source": [
        "mse = np.mean((y- y_pred)**2)\n",
        "print(f\"Final MSE: {mse:.4f}\")\n"
      ],
      "metadata": {
        "colab": {
          "base_uri": "https://localhost:8080/"
        },
        "id": "hmxWye0ZCz5h",
        "outputId": "2fd9f938-1263-432f-88da-888c05fb32b5"
      },
      "execution_count": 10,
      "outputs": [
        {
          "output_type": "stream",
          "name": "stdout",
          "text": [
            "Final MSE: 0.4203\n"
          ]
        }
      ]
    },
    {
      "cell_type": "code",
      "source": [
        "def r2_score(y, y_pred):\n",
        "    ss_res = np.sum((y - y_pred) ** 2)\n",
        "    ss_tot = np.sum((y - np.mean(y)) ** 2)\n",
        "    return 1 - (ss_res / ss_tot)\n",
        "\n",
        "r2 = r2_score(y, y_pred)\n",
        "\n",
        "print(f\"R² Score: {r2:.4f}\")"
      ],
      "metadata": {
        "colab": {
          "base_uri": "https://localhost:8080/"
        },
        "id": "-wiVz3ELKYuW",
        "outputId": "519b889f-dc73-482a-bd9c-4e80715f1a36"
      },
      "execution_count": 11,
      "outputs": [
        {
          "output_type": "stream",
          "name": "stdout",
          "text": [
            "R² Score: 0.3551\n"
          ]
        }
      ]
    },
    {
      "cell_type": "markdown",
      "source": [
        "#Linear regression using SVD"
      ],
      "metadata": {
        "id": "zZlZm4LOD1-n"
      }
    },
    {
      "cell_type": "code",
      "source": [
        "import numpy as np\n",
        "from numpy.linalg import norm, inv, svd\n",
        "\n",
        "A=np.zeros([1599,12])\n",
        "B=np.zeros([1599,1])\n",
        "X= np.zeros([12,1])\n",
        "\n",
        "A[:,0:11]= x\n",
        "A[:,11] =1\n",
        "B= y"
      ],
      "metadata": {
        "id": "qyzntzc0C6bU"
      },
      "execution_count": 12,
      "outputs": []
    },
    {
      "cell_type": "code",
      "source": [
        "U, S, VT=svd(A)\n",
        "UT= U.T\n",
        "Sk = np.zeros([12,1599])\n",
        "for i in range(12):\n",
        "  Sk[i][i]= 1/S[i]\n",
        "V= VT.T\n",
        "Ap= np.dot(np.dot(V,Sk), UT)\n",
        "\n",
        "X= np.dot(Ap,B)\n",
        "\n",
        "\n"
      ],
      "metadata": {
        "id": "WjmnCTwOEq2v"
      },
      "execution_count": 13,
      "outputs": []
    },
    {
      "cell_type": "code",
      "source": [
        "mse = np.mean((B- A@X)**2)\n",
        "print(f\"Final MSE: {mse:.4f}\")\n"
      ],
      "metadata": {
        "colab": {
          "base_uri": "https://localhost:8080/"
        },
        "id": "cta9RawCF_Qy",
        "outputId": "d6f2682d-2252-4966-8a8d-3284b1fcd63a"
      },
      "execution_count": 14,
      "outputs": [
        {
          "output_type": "stream",
          "name": "stdout",
          "text": [
            "Final MSE: 0.4168\n"
          ]
        }
      ]
    },
    {
      "cell_type": "code",
      "source": [
        "def r2_score(y, y_pred):\n",
        "    ss_res = np.sum((y - y_pred) ** 2)\n",
        "    ss_tot = np.sum((y - np.mean(y)) ** 2)\n",
        "    return 1 - (ss_res / ss_tot)\n",
        "\n",
        "r2 = r2_score(B, A@X)\n",
        "\n",
        "print(f\"R² Score: {r2:.4f}\")"
      ],
      "metadata": {
        "colab": {
          "base_uri": "https://localhost:8080/"
        },
        "id": "RYVgmR4ZKs-L",
        "outputId": "4224091d-fd1c-4a04-85b1-d410c8fa5461"
      },
      "execution_count": 15,
      "outputs": [
        {
          "output_type": "stream",
          "name": "stdout",
          "text": [
            "R² Score: 0.3606\n"
          ]
        }
      ]
    }
  ]
}